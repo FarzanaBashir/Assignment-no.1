{
 "cells": [
  {
   "cell_type": "code",
   "execution_count": 1,
   "id": "72f2ae02",
   "metadata": {},
   "outputs": [
    {
     "name": "stdout",
     "output_type": "stream",
     "text": [
      "Twinkle,twinkle,little star,\n",
      "\tHow I wonder what you are!\n",
      "\t\tUp above the world so high,\n",
      "\t\tLike a diamond in the sky.\n",
      "Twinkle,twinkle,little star,\n",
      "How I wonder what you are\n"
     ]
    }
   ],
   "source": [
    "print(\"Twinkle,twinkle,little star,\\n\\tHow I wonder what you are!\\n\\t\\tUp above the world so high,\\n\\t\\tLike a diamond in the sky.\\nTwinkle,twinkle,little star,\\nHow I wonder what you are\")"
   ]
  },
  {
   "cell_type": "code",
   "execution_count": 2,
   "id": "a2fa0c05",
   "metadata": {},
   "outputs": [
    {
     "name": "stdout",
     "output_type": "stream",
     "text": [
      "3.9.7\n"
     ]
    }
   ],
   "source": [
    "from platform import python_version\n",
    "print(python_version())"
   ]
  },
  {
   "cell_type": "code",
   "execution_count": 3,
   "id": "e7354c9b",
   "metadata": {},
   "outputs": [
    {
     "name": "stdout",
     "output_type": "stream",
     "text": [
      "date and time are : 2022-01-01 22:39:50\n"
     ]
    }
   ],
   "source": [
    "from datetime import datetime\n",
    "a = datetime.now()\n",
    "conversion = a.strftime('%Y-%m-%d %H:%M:%S')\n",
    "print('date and time are :', conversion)"
   ]
  },
  {
   "cell_type": "code",
   "execution_count": 4,
   "id": "3dde7412",
   "metadata": {},
   "outputs": [
    {
     "name": "stdout",
     "output_type": "stream",
     "text": [
      "Enter the radius: 4\n",
      "50.26548245743669\n"
     ]
    }
   ],
   "source": [
    "from math import pi\n",
    "r = input('Enter the radius: ')\n",
    "r = float(r)\n",
    "\n",
    "# Area of Circle is  given by:\n",
    "area_of_circle = pi * r**2\n",
    "print(area_of_circle)"
   ]
  },
  {
   "cell_type": "code",
   "execution_count": 5,
   "id": "39ff0d82",
   "metadata": {},
   "outputs": [
    {
     "name": "stdout",
     "output_type": "stream",
     "text": [
      "Enter a first name: Farzana\n",
      "Enter a last name: Bashir\n",
      "Bashir   Farzana\n"
     ]
    }
   ],
   "source": [
    "first_name = input('Enter a first name: ')\n",
    "last_name = input('Enter a last name: ')\n",
    "print(last_name,' ', first_name)"
   ]
  },
  {
   "cell_type": "code",
   "execution_count": 6,
   "id": "6b9ab4e4",
   "metadata": {},
   "outputs": [
    {
     "name": "stdout",
     "output_type": "stream",
     "text": [
      "Enter first input: New\n",
      "Enter second input: Year\n",
      "NewYear\n"
     ]
    }
   ],
   "source": [
    "input1 = input('Enter first input: ')\n",
    "input2 = input('Enter second input: ')\n",
    "print(input1 + input2)"
   ]
  },
  {
   "cell_type": "code",
   "execution_count": null,
   "id": "baee055f",
   "metadata": {},
   "outputs": [],
   "source": []
  }
 ],
 "metadata": {
  "kernelspec": {
   "display_name": "Python 3 (ipykernel)",
   "language": "python",
   "name": "python3"
  },
  "language_info": {
   "codemirror_mode": {
    "name": "ipython",
    "version": 3
   },
   "file_extension": ".py",
   "mimetype": "text/x-python",
   "name": "python",
   "nbconvert_exporter": "python",
   "pygments_lexer": "ipython3",
   "version": "3.9.7"
  }
 },
 "nbformat": 4,
 "nbformat_minor": 5
}
